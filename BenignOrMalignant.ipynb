{
 "metadata": {
  "language_info": {
   "codemirror_mode": {
    "name": "ipython",
    "version": 3
   },
   "file_extension": ".py",
   "mimetype": "text/x-python",
   "name": "python",
   "nbconvert_exporter": "python",
   "pygments_lexer": "ipython3",
   "version": "3.8.3-final"
  },
  "orig_nbformat": 2,
  "kernelspec": {
   "name": "python3",
   "display_name": "Python 3"
  }
 },
 "nbformat": 4,
 "nbformat_minor": 2,
 "cells": [
  {
   "cell_type": "code",
   "execution_count": null,
   "metadata": {},
   "outputs": [],
   "source": [
    "import tensorflow as tf\n",
    "import numpy as np\n",
    "import pandas as pd\n",
    "from sklearn.model_selection import train_test_split\n",
    "from sklearn import preprocessing\n",
    "from pathlib import Path\n",
    "from tensorflow.keras import layers\n",
    "from tensorflow import feature_column\n",
    "# Serves to check that the Tensor Flow version is correct and imported correctly\n",
    "print('tensorflow version', tf.__version__)"
   ]
  },
  {
   "cell_type": "code",
   "execution_count": null,
   "metadata": {},
   "outputs": [],
   "source": [
    "# Read in data and create a dataframe.\n",
    "# Create a columns array\n",
    "columns = ['id', 'diagnosis', 'radius_mean', 'texture_mean', 'perimeter_mean', 'area_mean', 'smoothness_mean', 'compactness_mean', 'concavity_mean', 'concave points_mean', 'symmetry_mean', 'fractal_dimension_mean']\n",
    "columns_float = ['radius_mean', 'texture_mean', 'perimeter_mean', 'area_mean', 'smoothness_mean', 'compactness_mean', 'concavity_mean', 'concave points_mean', 'symmetry_mean', 'fractal_dimension_mean']\n",
    "# Later we will need to split the data set into validation, test and training\n",
    "df = pd.read_csv('BreastCancerDataMeans.csv', names=columns, index_col=False)\n",
    "# Drop the ID column which we do not need, as well as the redundant headings\n",
    "df = df.drop('id', 1)\n",
    "df = df.drop(0)\n",
    "# Need to convert the object values into floats and the diagnosis into a string\n",
    "df['diagnosis'] = df.apply(lambda x: np.array(x['diagnosis']).astype(str), axis=1)\n",
    "for i in range(len(columns_float)):\n",
    "    df[columns_float[i]] = df.apply(lambda x: np.array(x[columns_float[i]]).astype(float), axis=1)\n",
    "df.head()\n",
    "# Need to convert the Malignant or Bengin result into a binary value\n",
    "df['diagnosis'] = df['diagnosis'].map({'M': 0, 'B':1})"
   ]
  },
  {
   "cell_type": "code",
   "execution_count": null,
   "metadata": {},
   "outputs": [],
   "source": [
    "# Split the data. Use a 75% training and 25% test split\n",
    "# test_size is how much of the data will be used for testing\n",
    "# random_state controls the shuffling to tae place, by defining the random state we can reproduce the same split of the data across multiple function calls\n",
    "# shuffle, we will enable this as the data may be organised in a certain way which could affect our results\n",
    "train_df, test_df = train_test_split(df, test_size=0.25, random_state=42, shuffle=True)\n",
    "# Define path for test and training data to be saved and convert them to CSV\n",
    "train_path = Path('train.tsv')\n",
    "test_path = Path('test.tsv')\n",
    "train_df.to_csv(train_path, sep='\\t', index=False)\n",
    "test_df.to_csv(test_path, sep='\\t', index=False)"
   ]
  },
  {
   "cell_type": "code",
   "execution_count": null,
   "metadata": {},
   "outputs": [],
   "source": [
    "# Normalize the data over all the values, besides for target value\n",
    "# Calculate the z score\n",
    "# All rows, columns between 1 and 5\n",
    "train_df_mean = train_df.iloc[:,1:5].mean()\n",
    "train_df_std = train_df.iloc[:,1:5].std()\n",
    "train_df_norm = (train_df - train_df_mean)/train_df_std\n",
    "\n",
    "test_df_mean = test_df.mean()\n",
    "test_df_sd = test_df.std()\n",
    "test_df_norm = (test_df - test_df_mean)/test_df_sd"
   ]
  },
  {
   "cell_type": "code",
   "execution_count": null,
   "metadata": {},
   "outputs": [],
   "source": [
    "featureColumns = []\n",
    "featureColumns.append(tf.feature_column(train_df['radius_mean']))\n",
    "featureColumns.append(tf.feature_column(train_df['texture_mean']))\n",
    "featureLayer = layers.DenseFeatures(featureColumns)"
   ]
  },
  {
   "cell_type": "code",
   "execution_count": null,
   "metadata": {},
   "outputs": [],
   "source": [
    "def createModel(myLearningRate, featureLayer, myMetrics):\n",
    "    # Most simple tf.keras models are sequential.\n",
    "    model = tf.keras.models.Sequential()\n",
    "    # Add the list of features and how they are represented\n",
    "    model.add(featureLayer)\n",
    "    # Use a sigmoid activation function to funnel\n",
    "    model.add(tf.keras.layers.Dense(units=1, input_shape=(1,), activation=tf.sigmoid),)\n",
    "    # Compile method will construct the layers into a model that TensorFlow can execute\n",
    "    # RMSprop is used to maintain a moving average of the square of the gradients, then divide the gradient by the root of the average\n",
    "    model.compile(optimizer=tf.keras.optimizers.RMSprop(lr=myLearningRate), loss=tf.keras.losses.BinaryCrossEntropy(),metrics=myMetrics)\n",
    "    return model"
   ]
  },
  {
   "cell_type": "code",
   "execution_count": null,
   "metadata": {},
   "outputs": [],
   "source": [
    "# Feed in a dataset into the model to train it\n",
    "# Epoch is a run through of the whole dataset, if we batch size then we only pass through parts of the dataset at a time\n",
    "# Epoch and batchSize will be changed to reduce the error rate\n",
    "def trainModel(model, dataset, epochs, labelName, batchSize = None, shuffle = True):\n",
    "    features = {name:np.array(value) for name, value in dataset.items()}\n",
    "    label = np.array(features.pop(label_name))\n",
    "    # x paramter can be an array of the data for each feature. Feature layer will be filtering out the columns we don't want\n",
    "    history = model.fit(x=features, y=label, batch_size=batchSize, epochs=epochs, shuffle=shuffle)\n",
    "    # Can see the output of the model being trained over time\n",
    "    epochs = history.epochs\n",
    "    # Isolate the classification metric for each epoch\n",
    "    hist = pd.DataFrame(history.history)\n",
    "    return epochs, hist"
   ]
  },
  {
   "cell_type": "code",
   "execution_count": null,
   "metadata": {},
   "outputs": [],
   "source": [
    "# Plot the trained model against random training examples using MatPlotLib\n",
    "def plotModel(trainedWeight, trainedBias, feature, label):\n",
    "    plt.xlabel(feature)\n",
    "    plt.ylabel(label)\n",
    "    randomExamples = training_df.sample(n=200)\n",
    "    plt.scatter(randomExamples[feature], randomExamples[label])\n",
    "\n",
    "    x0 = 0\n",
    "    y0 = trainedBias\n",
    "    x1 = 10000\n",
    "    y1 = trainedBias + (trainedWeight * x1)\n",
    "    plt.plot([x0, x1], [y0, y1], c=\"r\")\n",
    "    plt.show()"
   ]
  },
  {
   "cell_type": "code",
   "execution_count": null,
   "metadata": {},
   "outputs": [],
   "source": [
    "# Define and plot the loss curve, which will show how the model performs over epochs\n",
    "def plotLossCurve(epochs, rmse):\n",
    "    plt.figure()\n",
    "    plt.xlabel(\"Epochs\")\n",
    "    plt.ylabel(\"RMSE\")\n",
    "    plt.plot(epochs, rmse, label=\"Loss\")\n",
    "    plt.legend())\n",
    "    plt.ylim([rmse.min()*0.97, rmse.max()])\n",
    "    plt.show()"
   ]
  }
 ]
}