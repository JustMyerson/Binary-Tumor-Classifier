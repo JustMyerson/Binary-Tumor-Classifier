{
 "metadata": {
  "language_info": {
   "codemirror_mode": {
    "name": "ipython",
    "version": 3
   },
   "file_extension": ".py",
   "mimetype": "text/x-python",
   "name": "python",
   "nbconvert_exporter": "python",
   "pygments_lexer": "ipython3",
   "version": "3.8.3-final"
  },
  "orig_nbformat": 2,
  "kernelspec": {
   "name": "python3",
   "display_name": "Python 3"
  }
 },
 "nbformat": 4,
 "nbformat_minor": 2,
 "cells": [
  {
   "cell_type": "code",
   "execution_count": 10,
   "metadata": {},
   "outputs": [
    {
     "output_type": "stream",
     "name": "stdout",
     "text": [
      "tensorflow version 2.3.1\n"
     ]
    }
   ],
   "source": [
    "import tensorflow as tf\n",
    "import numpy as np\n",
    "import pandas as pd\n",
    "from sklearn.model_selection import train_test_split\n",
    "from pathlib import Path\n",
    "# Serves to check that the Tensor Flow version is correct and imported correctly\n",
    "print('tensorflow version', tf.__version__)"
   ]
  },
  {
   "cell_type": "code",
   "execution_count": 6,
   "metadata": {},
   "outputs": [],
   "source": [
    "# Read in data and create a dataframe.\n",
    "# Create a columns array\n",
    "columns = ['id', 'diagnosis', 'radius_mean', 'texture_mean', 'perimeter_mean', 'area_mean', 'smoothness_mean', 'compactness_mean', 'concavity_mean', 'concave points_mean', 'symmetry_mean', 'fractal_dimension_mean']\n",
    "columns_float = ['radius_mean', 'texture_mean', 'perimeter_mean', 'area_mean', 'smoothness_mean', 'compactness_mean', 'concavity_mean', 'concave points_mean', 'symmetry_mean', 'fractal_dimension_mean']\n",
    "# Later we will need to split the data set into validation, test and training\n",
    "df = pd.read_csv('BreastCancerDataMeans.csv', names=columns, index_col=False)\n",
    "# Drop the ID column which we do not need, as well as the redundant headings\n",
    "df = df.drop('id', 1)\n",
    "df = df.drop(0)\n",
    "# Need to convert the object values into floats and the diagnosis into a string\n",
    "df['diagnosis'] = df.apply(lambda x: np.array(x['diagnosis']).astype(str), axis=1)\n",
    "for i in range(len(columns_float)):\n",
    "    df[columns_float[i]] = df.apply(lambda x: np.array(x[columns_float[i]]).astype(float), axis=1)\n",
    "df.head()\n",
    "# Need to convert the Malignant or Bengin result into a binary value\n",
    "df['diagnosis'] = df['diagnosis'].map({'M': 0, 'B':1})"
   ]
  },
  {
   "cell_type": "code",
   "execution_count": 19,
   "metadata": {},
   "outputs": [
    {
     "output_type": "execute_result",
     "data": {
      "text/plain": [
       "(143, 11)"
      ]
     },
     "metadata": {},
     "execution_count": 19
    }
   ],
   "source": [
    "# Split the data. Use a 75% training and 25% test split\n",
    "# test_size is how much of the data will be used for testing\n",
    "# random_state controls the shuffling to tae place, by defining the random state we can reproduce the same split of the data across multiple function calls\n",
    "# shuffle, we will enable this as the data may be organised in a certain way which could affect our results\n",
    "train_df, test_df = train_test_split(df, test_size=0.25, random_state=42, shuffle=True)\n",
    "# Define path for test and training data to be saved and convert them to CSV\n",
    "train_path = Path('train.tsv')\n",
    "test_path = Path('test.tsv')\n",
    "train_df.to_csv(train_path, sep='\\t', index=False)\n",
    "test_df.to_csv(test_path, sep='\\t', index=False)"
   ]
  },
  {
   "cell_type": "code",
   "execution_count": 22,
   "metadata": {},
   "outputs": [
    {
     "output_type": "stream",
     "name": "stdout",
     "text": [
      "INFO:tensorflow:Using default config.\n",
      "INFO:tensorflow:Using config: {'_model_dir': 'train', '_tf_random_seed': None, '_save_summary_steps': 100, '_save_checkpoints_steps': None, '_save_checkpoints_secs': 600, '_session_config': allow_soft_placement: true\n",
      "graph_options {\n",
      "  rewrite_options {\n",
      "    meta_optimizer_iterations: ONE\n",
      "  }\n",
      "}\n",
      ", '_keep_checkpoint_max': 5, '_keep_checkpoint_every_n_hours': 10000, '_log_step_count_steps': 100, '_train_distribute': None, '_device_fn': None, '_protocol': None, '_eval_distribute': None, '_experimental_distribute': None, '_experimental_max_worker_delay_secs': None, '_session_creation_timeout_secs': 7200, '_service': None, '_cluster_spec': ClusterSpec({}), '_task_type': 'worker', '_task_id': 0, '_global_id_in_cluster': 0, '_master': '', '_evaluation_master': '', '_is_chief': True, '_num_ps_replicas': 0, '_num_worker_replicas': 1}\n"
     ]
    }
   ],
   "source": [
    "estimator = tf.estimator.LinearRegressor(    \n",
    "        feature_columns=columns_float,   \n",
    "        model_dir=\"train\")"
   ]
  },
  {
   "cell_type": "code",
   "execution_count": null,
   "metadata": {},
   "outputs": [],
   "source": []
  }
 ]
}